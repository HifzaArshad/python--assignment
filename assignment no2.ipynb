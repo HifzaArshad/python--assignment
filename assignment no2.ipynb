{
 "cells": [
  {
   "cell_type": "code",
   "execution_count": null,
   "metadata": {},
   "outputs": [],
   "source": []
  },
  {
   "cell_type": "code",
   "execution_count": null,
   "metadata": {},
   "outputs": [],
   "source": []
  },
  {
   "cell_type": "code",
   "execution_count": 14,
   "metadata": {},
   "outputs": [
    {
     "name": "stdout",
     "output_type": "stream",
     "text": [
      "Enter english marks10\n",
      "enter urdu marks20\n",
      "enter math marks30\n",
      "enter science marks5\n",
      "enter chemistry marks2\n",
      "('total marks is', 67)\n",
      "b\n"
     ]
    }
   ],
   "source": [
    "eng=input(\"Enter english marks\")\n",
    "urd=input(\"enter urdu marks\")\n",
    "math=input(\"enter math marks\")\n",
    "sci=input(\"enter science marks\")\n",
    "chem=input(\"enter chemistry marks\")\n",
    "total=eng+urd+math+sci+chem\n",
    "print(\"total marks is\",total)\n",
    "if total >=80:\n",
    "    print(\"a+\")\n",
    "elif total >=70:\n",
    "        print(\"a\")\n",
    "elif total >=60:\n",
    "    print(\"b\")\n",
    "else:\n",
    "    print(\"fail\")\n",
    "    \n"
   ]
  },
  {
   "cell_type": "code",
   "execution_count": 43,
   "metadata": {},
   "outputs": [
    {
     "name": "stdout",
     "output_type": "stream",
     "text": [
      "Enter first number10\n",
      "even\n"
     ]
    }
   ],
   "source": [
    "num=input(\"Enter first number\")\n",
    "if num%2:\n",
    "    print(\"odd\")\n",
    "elif num%3:\n",
    "    print(\"even\")\n",
    "else:\n",
    "    print(\"please input only numericals\")"
   ]
  },
  {
   "cell_type": "code",
   "execution_count": 49,
   "metadata": {},
   "outputs": [
    {
     "name": "stdout",
     "output_type": "stream",
     "text": [
      "72\n"
     ]
    }
   ],
   "source": [
    "string=\"sir i have still one error -token has expired- please sir help what i do\"\n",
    "length_of_string=len(string)\n",
    "print(length_of_string)"
   ]
  },
  {
   "cell_type": "code",
   "execution_count": 1,
   "metadata": {},
   "outputs": [
    {
     "name": "stdout",
     "output_type": "stream",
     "text": [
      "[301]\n"
     ]
    }
   ],
   "source": [
    "arr=[21+54+96+43+87]\n",
    "print(arr)"
   ]
  },
  {
   "cell_type": "code",
   "execution_count": 2,
   "metadata": {},
   "outputs": [
    {
     "name": "stdout",
     "output_type": "stream",
     "text": [
      "largest num of numeric list84\n"
     ]
    }
   ],
   "source": [
    "arr=[54,64,84,20,53]\n",
    "print(\"largest num of numeric list is \" + str(max(arr)))"
   ]
  },
  {
   "cell_type": "code",
   "execution_count": 7,
   "metadata": {},
   "outputs": [
    {
     "name": "stdout",
     "output_type": "stream",
     "text": [
      "1\n",
      "2\n",
      "3\n",
      "4\n",
      "5\n"
     ]
    }
   ],
   "source": [
    "arr2=[1,2,3,4,5,76,45,34]\n",
    "for i in arr2:\n",
    "    if(i<=5):\n",
    "        print(i)"
   ]
  },
  {
   "cell_type": "code",
   "execution_count": null,
   "metadata": {},
   "outputs": [],
   "source": []
  }
 ],
 "metadata": {
  "kernelspec": {
   "display_name": "Python 2",
   "language": "python",
   "name": "python2"
  },
  "language_info": {
   "codemirror_mode": {
    "name": "ipython",
    "version": 2
   },
   "file_extension": ".py",
   "mimetype": "text/x-python",
   "name": "python",
   "nbconvert_exporter": "python",
   "pygments_lexer": "ipython2",
   "version": "2.7.16"
  }
 },
 "nbformat": 4,
 "nbformat_minor": 2
}
