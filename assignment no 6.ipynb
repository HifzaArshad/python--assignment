{
 "cells": [
  {
   "cell_type": "code",
   "execution_count": 1,
   "metadata": {},
   "outputs": [
    {
     "ename": "IndentationError",
     "evalue": "unexpected indent (<ipython-input-1-4914c4acdb7a>, line 3)",
     "output_type": "error",
     "traceback": [
      "\u001b[1;36m  File \u001b[1;32m\"<ipython-input-1-4914c4acdb7a>\"\u001b[1;36m, line \u001b[1;32m3\u001b[0m\n\u001b[1;33m    object -oriented programming is programming paradigm based on the concept of \"object\",which can contain data,in the form of fields and code in the form of procedure..........\u001b[0m\n\u001b[1;37m    ^\u001b[0m\n\u001b[1;31mIndentationError\u001b[0m\u001b[1;31m:\u001b[0m unexpected indent\n"
     ]
    }
   ],
   "source": [
    "# Question no 1:\n",
    "# oop:\n",
    "          object -oriented programming is programming paradigm based on the concept of \"object\",which can contain data,in the form of fields and code in the form of procedure..........\n",
    "          \n",
    " \n",
    "# Question no 2 :\n",
    "# Benefits of oop:\n",
    "\n",
    "1:Real world programming\n",
    "2:reusable the code\n",
    "3: maintainability of code\n",
    "4: portability\n",
    "5:oop can be easily upgrade from small to large system\n",
    "6: data becomes active\n",
    "7:information hidding etc\n",
    "\n",
    "# Question no 3 :\n",
    "# function:\n",
    "\n",
    "A function is a piece of code that is called by name. it can be passed data to operate on \n",
    "(i.e the parameters) and can optionally return data (the return value).. All data is \n",
    "passed to a function is explicitly passed...\n",
    "\n",
    "# Method:\n",
    "\n",
    "A method is a piece of code that is called by a name that is \n",
    "\n",
    "# Question no 4: \n",
    "\n",
    "# 1: Class:\n",
    "                  A class is a blueprint for creating objects (a perticular data structure),providing intial \n",
    "                  values for state (member variables or attributes),and implementions of behaviour \n",
    "                  (member functions or methods).The user-defined objects are created using the class keyword........\n",
    "# 2: Object:  \n",
    "                    in oop,objects are the things you think about first in designing a program and they are also\n",
    "                    the units of code that are eventually derived from the process.......\n",
    "                    \n",
    "# 3: Attributes:\n",
    "                         In oop classes and objects have attributes.Attributes are data stored\n",
    "                          \n",
    "\n",
    "\n",
    "# 4: Behaviour:\n",
    "\n",
    "                           THE behaviour of an object is defined by its method,whicch are the functions\n",
    "                           and subroutines defined within the object class.....\n",
    "        "
   ]
  },
  {
   "cell_type": "code",
   "execution_count": 5,
   "metadata": {},
   "outputs": [
    {
     "name": "stdout",
     "output_type": "stream",
     "text": [
      "2013\n",
      "blue\n",
      "suzuki\n",
      "10911\n",
      "2 million\n"
     ]
    },
    {
     "ename": "AttributeError",
     "evalue": "'Car' object has no attribute 'newlight'",
     "output_type": "error",
     "traceback": [
      "\u001b[1;31m---------------------------------------------------------------------------\u001b[0m",
      "\u001b[1;31mAttributeError\u001b[0m                            Traceback (most recent call last)",
      "\u001b[1;32m<ipython-input-5-9b4de28cd8ef>\u001b[0m in \u001b[0;36m<module>\u001b[1;34m\u001b[0m\n\u001b[0;32m     19\u001b[0m \u001b[0mprint\u001b[0m\u001b[1;33m(\u001b[0m\u001b[0mcar1\u001b[0m\u001b[1;33m.\u001b[0m\u001b[0mprice\u001b[0m\u001b[1;33m)\u001b[0m\u001b[1;33m\u001b[0m\u001b[1;33m\u001b[0m\u001b[0m\n\u001b[0;32m     20\u001b[0m \u001b[0mcar1\u001b[0m\u001b[1;33m.\u001b[0m\u001b[0mupdateback\u001b[0m\u001b[1;33m(\u001b[0m\u001b[1;34m\"yellow\"\u001b[0m\u001b[1;33m)\u001b[0m\u001b[1;33m\u001b[0m\u001b[1;33m\u001b[0m\u001b[0m\n\u001b[1;32m---> 21\u001b[1;33m \u001b[0mprint\u001b[0m\u001b[1;33m(\u001b[0m\u001b[0mcar1\u001b[0m\u001b[1;33m.\u001b[0m\u001b[0mnewlight\u001b[0m\u001b[1;33m)\u001b[0m\u001b[1;33m\u001b[0m\u001b[1;33m\u001b[0m\u001b[0m\n\u001b[0m",
      "\u001b[1;31mAttributeError\u001b[0m: 'Car' object has no attribute 'newlight'"
     ]
    }
   ],
   "source": [
    "class Car:\n",
    "    def __init__(self,model,color,name,serialno,price):\n",
    "        self.model=model\n",
    "        self.color=color\n",
    "        self.name=name\n",
    "        self.serialno=serialno\n",
    "        self.price=price\n",
    "        self.backlight='red'\n",
    "        \n",
    "    def updateback(self,newlight):\n",
    "        \n",
    "        self.backlight=newlight\n",
    "        \n",
    "car1=Car('2013','blue','suzuki','10911','2 million')\n",
    "print(car1.model)\n",
    "print(car1.color)\n",
    "print(car1.name)\n",
    "print(car1.serialno)\n",
    "print(car1.price)\n",
    "car1.updateback(\"yellow\")\n",
    "print(car1.backlight)"
   ]
  },
  {
   "cell_type": "code",
   "execution_count": null,
   "metadata": {},
   "outputs": [],
   "source": []
  },
  {
   "cell_type": "code",
   "execution_count": null,
   "metadata": {},
   "outputs": [],
   "source": []
  }
 ],
 "metadata": {
  "kernelspec": {
   "display_name": "Python 3",
   "language": "python",
   "name": "python3"
  },
  "language_info": {
   "codemirror_mode": {
    "name": "ipython",
    "version": 3
   },
   "file_extension": ".py",
   "mimetype": "text/x-python",
   "name": "python",
   "nbconvert_exporter": "python",
   "pygments_lexer": "ipython3",
   "version": "3.7.5"
  }
 },
 "nbformat": 4,
 "nbformat_minor": 2
}
