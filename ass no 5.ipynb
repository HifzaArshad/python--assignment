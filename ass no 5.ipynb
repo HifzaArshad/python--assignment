{
 "cells": [
  {
   "cell_type": "code",
   "execution_count": 5,
   "metadata": {},
   "outputs": [
    {
     "name": "stdout",
     "output_type": "stream",
     "text": [
      "Enter a number...5\n",
      "120\n"
     ]
    }
   ],
   "source": [
    "def calculate():\n",
    "    fact=1\n",
    "\n",
    "    num=int(input(\"Enter a number...\"))\n",
    "    if num<0:\n",
    "        print(\"sorry factorial does not exit\")\n",
    "    elif num==0:\n",
    "        print(\"factorial of 0 is 1\")\n",
    "    else:\n",
    "        for i in range(1,num+1):\n",
    "            fact=fact*i\n",
    "        return fact\n",
    "s=calculate()\n",
    "print(s)"
   ]
  },
  {
   "cell_type": "code",
   "execution_count": 6,
   "metadata": {},
   "outputs": [
    {
     "name": "stdout",
     "output_type": "stream",
     "text": [
      "Enter a string....HIfzA\n",
      " the no of lower case 2\n",
      "the no of upper case 3\n"
     ]
    }
   ],
   "source": [
    "def case():\n",
    "    strr=input(\"Enter a string....\")\n",
    "    upp=0\n",
    "    low=0\n",
    "    for i in strr:\n",
    "        if i.islower():\n",
    "            low=low+1\n",
    "        else:\n",
    "            if i.isupper():\n",
    "                upp=upp+1\n",
    "    print(\" the no of lower case IS\",low)\n",
    "    print(\"the no of upper case IS\",upp)\n",
    "case()  "
   ]
  },
  {
   "cell_type": "code",
   "execution_count": 12,
   "metadata": {},
   "outputs": [
    {
     "name": "stdout",
     "output_type": "stream",
     "text": [
      "[2, 4, 6]\n"
     ]
    }
   ],
   "source": [
    "def evenn(i,*para):\n",
    "    even=[]\n",
    "    for num in i:    \n",
    "        num=int(num)\n",
    "        if num%2==0:\n",
    "            even.append(num)\n",
    "    return even\n",
    "var=evenn([1,2,3,4,5,6])\n",
    "print(var)"
   ]
  },
  {
   "cell_type": "code",
   "execution_count": 22,
   "metadata": {},
   "outputs": [
    {
     "name": "stdout",
     "output_type": "stream",
     "text": [
      "yes\n"
     ]
    }
   ],
   "source": [
    "def reverse(s):\n",
    "    return s[::-1]\n",
    "def ispalindrome(s):\n",
    "    var=reverse(s)\n",
    "    if (s==var):\n",
    "        return True\n",
    "    return False\n",
    "s= \"madam\"\n",
    "ans=ispalindrome(s)\n",
    "if ans==1:\n",
    "    print(\"yes\")\n",
    "else:\n",
    "    print(\"no\")"
   ]
  },
  {
   "cell_type": "code",
   "execution_count": 46,
   "metadata": {},
   "outputs": [
    {
     "name": "stdout",
     "output_type": "stream",
     "text": [
      "Enter a number.....6\n",
      "6 is a prime number........\n"
     ]
    }
   ],
   "source": [
    "def prime():\n",
    "    num=int(input(\"Enter a number.....\"))\n",
    "    n=2\n",
    "    if num >1:\n",
    "        if (num%n)==0:\n",
    "            print(num,\"is a prime number........\")\n",
    "        else:\n",
    "            print(num,\"is not a prime number.....\")\n",
    "prime()            "
   ]
  },
  {
   "cell_type": "code",
   "execution_count": 47,
   "metadata": {},
   "outputs": [
    {
     "name": "stdout",
     "output_type": "stream",
     "text": [
      " You Slected tomato\n",
      " You Slected orange\n",
      " You Slected apple\n"
     ]
    }
   ],
   "source": [
    "def shoping(*items):\n",
    "    for i in items:\n",
    "        print(\" You Slected\",i)\n",
    "        \n",
    "shoping('tomato','orange','apple')"
   ]
  },
  {
   "cell_type": "code",
   "execution_count": null,
   "metadata": {},
   "outputs": [],
   "source": []
  }
 ],
 "metadata": {
  "kernelspec": {
   "display_name": "Python 3",
   "language": "python",
   "name": "python3"
  },
  "language_info": {
   "codemirror_mode": {
    "name": "ipython",
    "version": 3
   },
   "file_extension": ".py",
   "mimetype": "text/x-python",
   "name": "python",
   "nbconvert_exporter": "python",
   "pygments_lexer": "ipython3",
   "version": "3.7.5"
  }
 },
 "nbformat": 4,
 "nbformat_minor": 2
}
