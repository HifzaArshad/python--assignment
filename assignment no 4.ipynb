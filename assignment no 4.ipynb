{
 "cells": [
  {
   "cell_type": "code",
   "execution_count": 18,
   "metadata": {},
   "outputs": [
    {
     "name": "stdout",
     "output_type": "stream",
     "text": [
      "('first_name', 'hifza')\n",
      "('last_name', 'Arshad')\n",
      "('age', '21')\n",
      "('city', 'Mirpurkhas')\n",
      "{'first_name': 'hifza', 'last_name': 'Arshad', 'age': '21', 'city': 'Mirpurkhas', 'qualification': 'BSCS'}\n"
     ]
    }
   ],
   "source": [
    "student ={\n",
    "    \"first_name\" : \"hifza\",\n",
    "    \"last_name\" : \"Arshad\",\n",
    "    \"age\" : \"21\",\n",
    "    \"city\" : \"Mirpurkhas\"\n",
    "}\n",
    "for i in student.items():\n",
    "    print(i)\n",
    "student[\"qualification\"]=\"BSCS\"\n",
    "print(student)\n",
    "\n",
    "student.update({\"qualification\":\"MSCS\"})\n",
    "print(student[])\n"
   ]
  },
  {
   "cell_type": "code",
   "execution_count": 19,
   "metadata": {},
   "outputs": [
    {
     "name": "stdout",
     "output_type": "stream",
     "text": [
      "name of city karachi\n",
      "name of country pakistan\n",
      "population 20 million\n",
      "fact karachi is the largest city of pakistan\n",
      "name of city dhaka\n",
      "name of country Bangaladesh\n",
      "population 1 million\n",
      "fact dhaka famous city for sweets\n",
      "name of city nagasaki\n",
      "name of country japan\n",
      "population 1.6 million\n",
      "fact destroyed in second world war\n"
     ]
    }
   ],
   "source": [
    "city={\n",
    "    \"karachi\":{\n",
    "        \"country\": \"pakistan\",\n",
    "        \"population\" : \"20 million\",\n",
    "        \"fact\" : \"karachi is the largest city of pakistan\"\n",
    "    },\n",
    "    \"dhaka\":{\n",
    "        \"country\" : \"Bangaladesh\",\n",
    "        \"population\" : \"1 million\",\n",
    "        \"fact\" : \"dhaka famous city for sweets\"\n",
    "    },\n",
    "    \"nagasaki\":{\n",
    "        \"country\": \"japan\",\n",
    "        \"population\" : \"1.6 million\",\n",
    "        \"fact\" : \"destroyed in second world war\"\n",
    "    },\n",
    "    \n",
    "}\n",
    "for i in city.keys():\n",
    "    print(\"name of city\",i)\n",
    "    print(\"name of country\",city[i][\"country\"])\n",
    "    print(\"population\",city[i][\"population\"])\n",
    "    print(\"fact\",city[i][\"fact\"])"
   ]
  },
  {
   "cell_type": "code",
   "execution_count": 2,
   "metadata": {},
   "outputs": [
    {
     "name": "stdout",
     "output_type": "stream",
     "text": [
      "enter the no of person..3\n",
      "please enter the age..5\n",
      "ticket price is $ 30\n",
      "please enter the age..7\n",
      "ticket price is $ 30\n",
      "2\n"
     ]
    }
   ],
   "source": [
    "per=int(input(\"enter the no of person..\"))\n",
    "\n",
    "price=10\n",
    "price1=15\n",
    "for i in range(0,per):\n",
    "    \n",
    "    age=int(input(\"please enter the age..\"))\n",
    "\n",
    "    if age <= 3:\n",
    "        print(\"no cost of tickets.......\")\n",
    "    \n",
    "    elif age>3 and age<12:\n",
    "        print(\"ticket price is $\",per*price)\n",
    "        \n",
    "    else:\n",
    "        print(\"ticket price is $\",per*price1)\n",
    "        \n",
    "print(i)"
   ]
  },
  {
   "cell_type": "code",
   "execution_count": null,
   "metadata": {},
   "outputs": [],
   "source": [
    "def favorite_book(title):\n",
    "    print(\"0ne of my favorite book is\",title)\n",
    "    \n",
    "title=input(\"enter book name\")\n",
    "favorite_book(title)    "
   ]
  },
  {
   "cell_type": "markdown",
   "metadata": {},
   "source": []
  },
  {
   "cell_type": "code",
   "execution_count": null,
   "metadata": {},
   "outputs": [
    {
     "name": "stdout",
     "output_type": "stream",
     "text": [
      "enter no b/w 1 to 305\n",
      "its too low\n",
      "oops you loose the game\n",
      "correct num 9\n"
     ]
    }
   ],
   "source": [
    "import random\n",
    "random_number=random.randrange(1,30)\n",
    "\n",
    "flag=False\n",
    "for i in range(1,4):\n",
    "    j=int(input(\"enter no b/w 1 to 30\"))\n",
    "    if j==random_number:\n",
    "        flag=True\n",
    "    elif j < random_number:\n",
    "        print(\"its too low\")\n",
    "    else:\n",
    "        print(\"its too high\")\n",
    "    if flag:\n",
    "        print(\"congress you won\")\n",
    "    else:\n",
    "        print(\"oops you loose the game\")\n",
    "        print(\"correct num\",random_number)"
   ]
  },
  {
   "cell_type": "code",
   "execution_count": null,
   "metadata": {},
   "outputs": [],
   "source": []
  },
  {
   "cell_type": "code",
   "execution_count": null,
   "metadata": {},
   "outputs": [],
   "source": []
  },
  {
   "cell_type": "code",
   "execution_count": null,
   "metadata": {},
   "outputs": [],
   "source": []
  }
 ],
 "metadata": {
  "kernelspec": {
   "display_name": "Python 3",
   "language": "python",
   "name": "python3"
  },
  "language_info": {
   "codemirror_mode": {
    "name": "ipython",
    "version": 3
   },
   "file_extension": ".py",
   "mimetype": "text/x-python",
   "name": "python",
   "nbconvert_exporter": "python",
   "pygments_lexer": "ipython3",
   "version": "3.7.5"
  }
 },
 "nbformat": 4,
 "nbformat_minor": 2
}
