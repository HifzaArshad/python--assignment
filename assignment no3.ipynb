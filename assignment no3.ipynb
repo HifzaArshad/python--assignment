{
 "cells": [
  {
   "cell_type": "code",
   "execution_count": 1,
   "metadata": {},
   "outputs": [
    {
     "name": "stdout",
     "output_type": "stream",
     "text": [
      "Enter first value5\n",
      "Enter second value8\n",
      "Enter operator+\n",
      "13 answere\n"
     ]
    }
   ],
   "source": [
    "val1=input(\"Enter first value\")\n",
    "val2=input(\"Enter second value\")\n",
    "operator=input(\"Enter operator\")\n",
    "val1=int(val1)\n",
    "val2=int(val2)\n",
    "\n",
    "if operator=='+':\n",
    "    val=val1+val2\n",
    "    print(val,\"answere\")\n",
    "elif operator == '-':\n",
    "    val=val1-val2\n",
    "    print(val,\"answere\")\n",
    "elif operator == '*':\n",
    "    val=val1*val2\n",
    "    print(val,\"answere\")\n",
    "elif operator=='/':\n",
    "    val=val1/val2\n",
    "    print(val,\"answere\")\n",
    "else:\n",
    "          print(\"you entered wrong operator\")"
   ]
  },
  {
   "cell_type": "code",
   "execution_count": 3,
   "metadata": {},
   "outputs": [
    {
     "name": "stdout",
     "output_type": "stream",
     "text": [
      "numeric value 5\n",
      "numeric value 7\n"
     ]
    }
   ],
   "source": [
    "department= {\n",
    "    \"clerk\":5,\n",
    "    \"lab incharge\":7,\n",
    "     1:\"teaching staff\",\n",
    "     2:\"non_teaching staff\"\n",
    "}\n",
    "for each_value in department.values():\n",
    "    if  type(each_value)==int:\n",
    "        print(\"numeric value\",each_value)\n",
    "        "
   ]
  },
  {
   "cell_type": "code",
   "execution_count": 4,
   "metadata": {},
   "outputs": [
    {
     "name": "stdout",
     "output_type": "stream",
     "text": [
      "{'firs_name': 'shakeel', 'last_name': 'ahmed', 'address': 'it corner centre', 'qualification': 'intermediate'}\n"
     ]
    }
   ],
   "source": [
    "customer = {\n",
    "    \"firs_name\":\"shakeel\",\n",
    "     \"last_name\":\"ahmed\",\n",
    "      \"address\":\"it corner centre\"\n",
    "}\n",
    "customer[\"qualification\"]='intermediate'\n",
    "print(customer)"
   ]
  },
  {
   "cell_type": "code",
   "execution_count": 5,
   "metadata": {},
   "outputs": [
    {
     "name": "stdout",
     "output_type": "stream",
     "text": [
      "25\n"
     ]
    }
   ],
   "source": [
    "school={\n",
    "    \"clerk\":6,\n",
    "    \"teachers\":12,\n",
    "    \"peon\":3,\n",
    "    \"inchsrge\":4\n",
    "}\n",
    "sum=0\n",
    "for i in school.values():\n",
    "    sum=sum+i\n",
    "print(sum)"
   ]
  },
  {
   "cell_type": "code",
   "execution_count": null,
   "metadata": {},
   "outputs": [],
   "source": [
    "customer = {\n",
    "    \"first_name\":\"shakeel\",\n",
    "     \"last_name\":\"ahmed\",\n",
    "      \"address\":\"it corner centre\"\n",
    "}\n",
    "\n",
    "for i in customer:\n",
    "    if i==\"full_name\":\n",
    "        print(\"your key is\",i)\n",
    "        break\n",
    "else:\n",
    "    print(\"your key is not here\")"
   ]
  }
 ],
 "metadata": {
  "kernelspec": {
   "display_name": "Python 3",
   "language": "python",
   "name": "python3"
  },
  "language_info": {
   "codemirror_mode": {
    "name": "ipython",
    "version": 3
   },
   "file_extension": ".py",
   "mimetype": "text/x-python",
   "name": "python",
   "nbconvert_exporter": "python",
   "pygments_lexer": "ipython3",
   "version": "3.7.5"
  }
 },
 "nbformat": 4,
 "nbformat_minor": 2
}
